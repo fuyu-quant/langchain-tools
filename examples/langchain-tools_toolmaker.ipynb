{
  "cells": [
    {
      "cell_type": "markdown",
      "metadata": {
        "id": "td06La5WbwjL"
      },
      "source": [
        "# toolmaker"
      ]
    },
    {
      "cell_type": "markdown",
      "metadata": {
        "colab_type": "text",
        "id": "view-in-github"
      },
      "source": [
        "[![Open In Colab](https://colab.research.google.com/assets/colab-badge.svg)](https://colab.research.google.com/github/fuyu-quant/langchain-tools/blob/main/examples/langchain-tools_LightGBM.ipynb)"
      ]
    },
    {
      "cell_type": "code",
      "execution_count": null,
      "metadata": {},
      "outputs": [],
      "source": [
        "# langchain-toolsのインストール\n",
        "!pip install git+https://github.com/fuyu-quant/langchain-tools.git"
      ]
    },
    {
      "cell_type": "code",
      "execution_count": null,
      "metadata": {
        "id": "zAGSgXgfbrac"
      },
      "outputs": [],
      "source": [
        "%%capture\n",
        "!pip install langchain\n",
        "!pip install openai"
      ]
    },
    {
      "cell_type": "code",
      "execution_count": null,
      "metadata": {},
      "outputs": [],
      "source": [
        "# LangChain\n",
        "from langchain.llms import OpenAI\n",
        "from langchain.agents import initialize_agent, Tool, tool\n",
        "\n",
        "\n",
        "# langchaintools \n",
        "from langchaintools import toolmaker\n",
        "from langchaintools import mltools\n",
        "\n",
        "\n",
        "import os\n",
        "\n",
        "os.environ[\"LANGCHAIN_HANDLER\"] = \"langchain\"\n",
        "os.environ[\"OPENAI_API_KEY\"] = \"YOUR_API_KEY\""
      ]
    },
    {
      "cell_type": "code",
      "execution_count": null,
      "metadata": {},
      "outputs": [],
      "source": [
        "tools = [Tool(name = 'toolmaker', func = toolmaker.toolmaker, description=\"\")]"
      ]
    },
    {
      "cell_type": "code",
      "execution_count": null,
      "metadata": {},
      "outputs": [],
      "source": [
        "llm = OpenAI(temperature=0)\n",
        "agent = initialize_agent(tools, llm, agent=\"zero-shot-react-description\", verbose=True)\n",
        "\n",
        "\n",
        "tool_name = \"XGBoost training\"\n",
        "agent.run(f\"Please make a langchain-tool for {tool_name}\")"
      ]
    }
  ],
  "metadata": {
    "colab": {
      "authorship_tag": "ABX9TyNI6HjTPtlVHFx6snOcsjFr",
      "include_colab_link": true,
      "provenance": []
    },
    "kernelspec": {
      "display_name": "Python 3.8.13 64-bit ('kaggle')",
      "language": "python",
      "name": "python3"
    },
    "language_info": {
      "name": "python",
      "version": "3.8.13"
    },
    "vscode": {
      "interpreter": {
        "hash": "0efafe6c13c226858b1e3209a708328284172effb51c12dbb0bda90f2bc21738"
      }
    }
  },
  "nbformat": 4,
  "nbformat_minor": 0
}
