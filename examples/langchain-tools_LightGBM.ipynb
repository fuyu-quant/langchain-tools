{
  "cells": [
    {
      "cell_type": "markdown",
      "metadata": {
        "id": "td06La5WbwjL"
      },
      "source": [
        "# LightGBM"
      ]
    },
    {
      "cell_type": "markdown",
      "metadata": {
        "colab_type": "text",
        "id": "view-in-github"
      },
      "source": [
        "[![Open In Colab](https://colab.research.google.com/assets/colab-badge.svg)](https://colab.research.google.com/github/fuyu-quant/langchain-tools/blob/main/examples/langchain-tools_LightGBM.ipynb)"
      ]
    },
    {
      "cell_type": "code",
      "execution_count": null,
      "metadata": {},
      "outputs": [],
      "source": [
        "!pip install git+https://github.com/fuyu-quant/langchain-tools.git"
      ]
    },
    {
      "cell_type": "code",
      "execution_count": null,
      "metadata": {
        "id": "zAGSgXgfbrac"
      },
      "outputs": [],
      "source": [
        "%%capture\n",
        "!pip install langchain\n",
        "!pip install openai\n",
        "!pip install lightgbm"
      ]
    },
    {
      "cell_type": "code",
      "execution_count": null,
      "metadata": {},
      "outputs": [],
      "source": [
        "import pandas as pd\n",
        "import lightgbm as lgbm\n",
        "\n",
        "# LangChain\n",
        "from langchain.llms import OpenAI\n",
        "from langchain.agents import initialize_agent, Tool, tool\n",
        "\n",
        "\n",
        "# langchaintools \n",
        "from langchaintools import toolmaker\n",
        "from langchaintools import mltools\n",
        "\n",
        "\n",
        "import os\n",
        "\n",
        "os.environ[\"LANGCHAIN_HANDLER\"] = \"langchain\"\n",
        "os.environ[\"OPENAI_API_KEY\"] = \"YOUR_API_KEY\""
      ]
    },
    {
      "cell_type": "markdown",
      "metadata": {},
      "source": [
        "### データセットの用意\n",
        "* 現在の実装では学習や推論を行うのにcsvファイルにする必要があります"
      ]
    },
    {
      "cell_type": "code",
      "execution_count": null,
      "metadata": {
        "id": "3E6I9kJCAXwt"
      },
      "outputs": [],
      "source": [
        "from sklearn.datasets import load_iris\n",
        "from sklearn.model_selection import train_test_split\n",
        "\n",
        "iris = load_iris()\n",
        "x = pd.DataFrame(iris.data, columns=iris.feature_names)\n",
        "y = iris.target\n",
        "print(f'全データ数:{len(x)}')\n",
        "\n",
        "train, test, train_target, test_target = train_test_split(x, y ,test_size = 0.2, random_state=3655)\n",
        "\n",
        "train['target'] = train_target\n",
        "#test['target'] = test_target\n",
        "\n",
        "print(f'学習データ数:{len(train)}')\n",
        "print(f'学習データ数:{len(test)}')\n",
        "train.to_csv('/content/train.csv')\n",
        "test.to_csv('/content/test.csv')"
      ]
    },
    {
      "cell_type": "markdown",
      "metadata": {},
      "source": [
        "### LightGBMの学習"
      ]
    },
    {
      "cell_type": "code",
      "execution_count": null,
      "metadata": {},
      "outputs": [],
      "source": [
        "tools = [\n",
        "    Tool(name = 'lgbm_train_tool',func = mltools.lgbm_train_tool, description=\"\"),\n",
        "    Tool(name = 'lgbm_inference_tool',func = mltools.lgbm_inference_tool, description=\"\")\n",
        "    ]"
      ]
    },
    {
      "cell_type": "code",
      "execution_count": null,
      "metadata": {},
      "outputs": [],
      "source": [
        "llm = OpenAI(temperature=0)\n",
        "agent = initialize_agent(tools, llm, agent=\"zero-shot-react-description\", verbose=True)\n",
        "\n",
        "agent.run(\"train.csvを使ってLightGBMの学習を行なってください\")"
      ]
    },
    {
      "cell_type": "code",
      "execution_count": null,
      "metadata": {},
      "outputs": [],
      "source": [
        "agent.run(\"test.csvをLightGBMで推論を行なってください\")"
      ]
    },
    {
      "cell_type": "code",
      "execution_count": null,
      "metadata": {},
      "outputs": [],
      "source": [
        "test_pred = pd.read_csv('/content/inference.csv', index_col = 0)"
      ]
    },
    {
      "cell_type": "code",
      "execution_count": null,
      "metadata": {},
      "outputs": [],
      "source": [
        "test_target"
      ]
    }
  ],
  "metadata": {
    "colab": {
      "authorship_tag": "ABX9TyNI6HjTPtlVHFx6snOcsjFr",
      "include_colab_link": true,
      "provenance": []
    },
    "kernelspec": {
      "display_name": "Python 3.8.13 64-bit ('kaggle')",
      "language": "python",
      "name": "python3"
    },
    "language_info": {
      "name": "python",
      "version": "3.8.13"
    },
    "vscode": {
      "interpreter": {
        "hash": "0efafe6c13c226858b1e3209a708328284172effb51c12dbb0bda90f2bc21738"
      }
    }
  },
  "nbformat": 4,
  "nbformat_minor": 0
}
