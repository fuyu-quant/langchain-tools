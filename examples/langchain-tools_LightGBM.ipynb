{
  "cells": [
    {
      "cell_type": "code",
      "execution_count": null,
      "metadata": {},
      "outputs": [],
      "source": []
    },
    {
      "cell_type": "markdown",
      "metadata": {
        "id": "td06La5WbwjL"
      },
      "source": [
        "# LightGBM"
      ]
    },
    {
      "cell_type": "markdown",
      "metadata": {
        "colab_type": "text",
        "id": "view-in-github"
      },
      "source": [
        "[![Open In Colab](https://colab.research.google.com/assets/colab-badge.svg)](https://colab.research.google.com/github/fuyu-quant/langchain-tools/blob/main/examples/langchain-tools_LightGBM.ipynb)"
      ]
    },
    {
      "cell_type": "code",
      "execution_count": 4,
      "metadata": {},
      "outputs": [
        {
          "name": "stdout",
          "output_type": "stream",
          "text": [
            "Collecting git+https://github.com/fuyu-quant/langchain-tools.git\n",
            "  Cloning https://github.com/fuyu-quant/langchain-tools.git to /tmp/pip-req-build-w91zpwuw\n",
            "  Running command git clone --filter=blob:none --quiet https://github.com/fuyu-quant/langchain-tools.git /tmp/pip-req-build-w91zpwuw\n",
            "  Resolved https://github.com/fuyu-quant/langchain-tools.git to commit 045842614ed1f586e5bca508fd3448993626823b\n",
            "  Preparing metadata (setup.py) ... \u001b[?25ldone\n",
            "\u001b[?25h"
          ]
        }
      ],
      "source": [
        "!pip install git+https://github.com/fuyu-quant/langchain-tools.git"
      ]
    },
    {
      "cell_type": "code",
      "execution_count": 2,
      "metadata": {
        "id": "zAGSgXgfbrac"
      },
      "outputs": [],
      "source": [
        "%%capture\n",
        "!pip install langchain==0.0.152\n",
        "!pip install openai==00.27.5\n",
        "!pip install lightgbm==3.3.5"
      ]
    },
    {
      "cell_type": "code",
      "execution_count": 3,
      "metadata": {},
      "outputs": [],
      "source": [
        "import pandas as pd\n",
        "import lightgbm as lgbm\n",
        "from sklearn.metrics import accuracy_score\n",
        "from sklearn.datasets import load_iris\n",
        "from sklearn.model_selection import train_test_split\n",
        "\n",
        "# LangChain\n",
        "from langchain.llms import OpenAI\n",
        "from langchain.agents import initialize_agent, Tool, tool\n",
        "\n",
        "\n",
        "# langchaintools \n",
        "from langchaintools import mltools\n",
        "\n",
        "\n",
        "import os\n",
        "\n",
        "os.environ[\"OPENAI_API_KEY\"] = \"YOUR_API_KEY\""
      ]
    },
    {
      "cell_type": "markdown",
      "metadata": {},
      "source": [
        "### データセットの用意\n",
        "* 現在の実装では学習や推論を行うのにcsvファイルにする必要があります"
      ]
    },
    {
      "cell_type": "code",
      "execution_count": null,
      "metadata": {
        "id": "3E6I9kJCAXwt"
      },
      "outputs": [],
      "source": [
        "iris = load_iris()\n",
        "x = pd.DataFrame(iris.data, columns=iris.feature_names)\n",
        "y = iris.target\n",
        "print(f'全データ数:{len(x)}')\n",
        "\n",
        "train, test, train_target, test_target = train_test_split(x, y ,test_size = 0.2, random_state=3655)\n",
        "\n",
        "train['target'] = train_target\n",
        "#test['target'] = test_target\n",
        "\n",
        "print(f'学習データ数:{len(train)}')\n",
        "print(f'学習データ数:{len(test)}')\n",
        "train.to_csv('/content/train.csv')\n",
        "test.to_csv('/content/test.csv')"
      ]
    },
    {
      "cell_type": "markdown",
      "metadata": {},
      "source": [
        "### langchin-toolsの設定"
      ]
    },
    {
      "cell_type": "code",
      "execution_count": null,
      "metadata": {},
      "outputs": [],
      "source": [
        "# Toolの設定\n",
        "tools = [mltools.LgbmtrainTool(), mltools.LgbminferenceTool()]\n",
        "\n",
        "# 通常のLangChainの設定\n",
        "llm = OpenAI(temperature=0)\n",
        "agent = initialize_agent(tools, llm, agent=\"zero-shot-react-description\", verbose=True)"
      ]
    },
    {
      "cell_type": "markdown",
      "metadata": {},
      "source": [
        "### LightGBMの学習と推論"
      ]
    },
    {
      "cell_type": "code",
      "execution_count": null,
      "metadata": {},
      "outputs": [],
      "source": [
        "agent.run(\"train.csvを使ってLightGBMの学習を行なったあとtest.csvのデータを推論してください\")"
      ]
    },
    {
      "cell_type": "markdown",
      "metadata": {},
      "source": [
        "### 精度の確認"
      ]
    },
    {
      "cell_type": "code",
      "execution_count": null,
      "metadata": {},
      "outputs": [],
      "source": [
        "# 推論結果の読み込み\n",
        "test_pred = pd.read_csv('/content/inference.csv', index_col = 0)\n",
        "test_pred = test_pred.values.argmax(axis = 1)\n",
        "\n",
        "score = accuracy_score(test_target, test_pred)\n",
        "print(f'予測精度:{score*100}%')"
      ]
    }
  ],
  "metadata": {
    "colab": {
      "authorship_tag": "ABX9TyNI6HjTPtlVHFx6snOcsjFr",
      "include_colab_link": true,
      "provenance": []
    },
    "kernelspec": {
      "display_name": "Python 3.10.9 ('base')",
      "language": "python",
      "name": "python3"
    },
    "language_info": {
      "codemirror_mode": {
        "name": "ipython",
        "version": 3
      },
      "file_extension": ".py",
      "mimetype": "text/x-python",
      "name": "python",
      "nbconvert_exporter": "python",
      "pygments_lexer": "ipython3",
      "version": "3.10.9"
    },
    "vscode": {
      "interpreter": {
        "hash": "d4d1e4263499bec80672ea0156c357c1ee493ec2b1c70f0acce89fc37c4a6abe"
      }
    }
  },
  "nbformat": 4,
  "nbformat_minor": 0
}
