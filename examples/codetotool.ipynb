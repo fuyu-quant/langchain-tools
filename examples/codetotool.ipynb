{
 "cells": [
  {
   "cell_type": "markdown",
   "metadata": {},
   "source": [
    "# codetotool"
   ]
  },
  {
   "cell_type": "markdown",
   "metadata": {
    "colab_type": "text",
    "id": "view-in-github"
   },
   "source": [
    "[![Open In Colab](https://colab.research.google.com/assets/colab-badge.svg)](https://colab.research.google.com/github/fuyu-quant/langchain-tools/blob/main/examples/langchain-tools_toolmaker.ipynb)"
   ]
  },
  {
   "cell_type": "code",
   "execution_count": null,
   "metadata": {},
   "outputs": [],
   "source": [
    "# langchain-toolsのインストール\n",
    "!pip install git+https://github.com/fuyu-quant/langchain-tools.git"
   ]
  },
  {
   "cell_type": "code",
   "execution_count": null,
   "metadata": {},
   "outputs": [],
   "source": [
    "%%capture\n",
    "!pip install langchain\n",
    "!pip install openai"
   ]
  },
  {
   "cell_type": "code",
   "execution_count": null,
   "metadata": {},
   "outputs": [],
   "source": [
    "# LangChain\n",
    "from langchain.llms import OpenAI\n",
    "from langchain.agents import initialize_agent, Tool, tool\n",
    "\n",
    "\n",
    "# langchaintools \n",
    "from langchaintools import toolmaker\n",
    "from langchaintools import mltools\n",
    "\n",
    "\n",
    "import os\n",
    "\n",
    "os.environ[\"LANGCHAIN_HANDLER\"] = \"langchain\"\n",
    "os.environ[\"OPENAI_API_KEY\"] = \"YOUR_API_KEY\""
   ]
  },
  {
   "cell_type": "code",
   "execution_count": null,
   "metadata": {},
   "outputs": [],
   "source": [
    "# 文字列を入力として受け取り，かけ算をするコード\n",
    "code = \"\"\"\n",
    "a, b = query.split(\",\")\n",
    "c = int(a) * int(b)\n",
    "\"\"\"\n",
    "\n",
    "with open('/content/multiplication.py', 'w') as f:\n",
    "    f.write(code)\n",
    "f.close()"
   ]
  },
  {
   "cell_type": "markdown",
   "metadata": {},
   "source": [
    "### codetotool"
   ]
  },
  {
   "cell_type": "code",
   "execution_count": null,
   "metadata": {},
   "outputs": [],
   "source": [
    "llm = OpenAI(temperature=0)\n",
    "tools = [Tool(name = 'codetotool', func = toolmaker.codetotool, description=\"\")]\n",
    "\n",
    "agent = initialize_agent(tools, llm, agent=\"zero-shot-react-description\", verbose=True)"
   ]
  },
  {
   "cell_type": "code",
   "execution_count": null,
   "metadata": {},
   "outputs": [],
   "source": [
    "tool_name = \"multiplication_tool\"\n",
    "description = \"かけ算をする時に使う.\"\n",
    "input = \"二つの数値\"\n",
    "example = \"1を2に掛けたい場合は,'1,2'が入力となります.\"\n",
    "code_path = \"multiplication.py\"\n",
    "output = 'かけ算の結果は{c}です'\n",
    "\n",
    "data = [tool_name, description, input, example, code_path, output]\n",
    "\n",
    "\n",
    "agent.run(f\"[data = {data}]でlangchain-toolsを作って\")"
   ]
  }
 ],
 "metadata": {
  "kernelspec": {
   "display_name": "Python 3.9.10 64-bit",
   "language": "python",
   "name": "python3"
  },
  "language_info": {
   "name": "python",
   "version": "3.9.10"
  },
  "orig_nbformat": 4,
  "vscode": {
   "interpreter": {
    "hash": "b0fa6594d8f4cbf19f97940f81e996739fb7646882a419484c72d19e05852a7e"
   }
  }
 },
 "nbformat": 4,
 "nbformat_minor": 2
}
