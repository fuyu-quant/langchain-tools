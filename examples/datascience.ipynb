{
 "cells": [
  {
   "cell_type": "markdown",
   "metadata": {},
   "source": [
    "# Data Science"
   ]
  },
  {
   "cell_type": "markdown",
   "metadata": {},
   "source": [
    "[![Open In Colab](https://colab.research.google.com/assets/colab-badge.svg)](https://colab.research.google.com/github/fuyu-quant/langchain-tools/blob/main/examples/datascience.ipynb)"
   ]
  },
  {
   "cell_type": "code",
   "execution_count": 1,
   "metadata": {},
   "outputs": [
    {
     "name": "stdout",
     "output_type": "stream",
     "text": [
      "Collecting git+https://github.com/fuyu-quant/langchain-tools.git\n",
      "  Cloning https://github.com/fuyu-quant/langchain-tools.git to /tmp/pip-req-build-245z6wvj\n",
      "  Running command git clone --filter=blob:none --quiet https://github.com/fuyu-quant/langchain-tools.git /tmp/pip-req-build-245z6wvj\n",
      "  Resolved https://github.com/fuyu-quant/langchain-tools.git to commit 90f8145b475870c9c78f774bdf04a64736ff823b\n",
      "  Preparing metadata (setup.py) ... \u001b[?25ldone\n",
      "\u001b[?25hBuilding wheels for collected packages: langchaintools\n",
      "  Building wheel for langchaintools (setup.py) ... \u001b[?25ldone\n",
      "\u001b[?25h  Created wheel for langchaintools: filename=langchaintools-0.2.0-py3-none-any.whl size=9421 sha256=28b9248eb78f4cdb25504f2d4a766e05499c02c9565be0d8baf1bc2ac00e7404\n",
      "  Stored in directory: /tmp/pip-ephem-wheel-cache-g7dynff2/wheels/ea/fc/e9/fd85c3556513c353cf0eaee43cd7473ffc93461ab46e639ae5\n",
      "Successfully built langchaintools\n",
      "Installing collected packages: langchaintools\n",
      "  Attempting uninstall: langchaintools\n",
      "    Found existing installation: langchaintools 0.1.1\n",
      "    Uninstalling langchaintools-0.1.1:\n",
      "      Successfully uninstalled langchaintools-0.1.1\n",
      "Successfully installed langchaintools-0.2.0\n"
     ]
    }
   ],
   "source": [
    "!pip install git+https://github.com/fuyu-quant/langchain-tools.git"
   ]
  },
  {
   "cell_type": "code",
   "execution_count": 2,
   "metadata": {},
   "outputs": [],
   "source": [
    "%%capture\n",
    "!pip install langchain==0.0.152\n",
    "!pip install openai==00.27.5\n",
    "!pip install lightgbm==3.3.5"
   ]
  },
  {
   "cell_type": "code",
   "execution_count": 3,
   "metadata": {},
   "outputs": [],
   "source": [
    "# LangChain\n",
    "from langchain.llms import OpenAI\n",
    "from langchain.agents import initialize_agent, Tool, tool\n",
    "\n",
    "\n",
    "# langchaintools \n",
    "from langchaintools import mltools\n",
    "from langchaintools import preprocessingtools as ppt\n",
    "\n",
    "\n",
    "\n",
    "import os\n",
    "\n",
    "os.environ[\"OPENAI_API_KEY\"] = \"YOUR_API_KEY\""
   ]
  },
  {
   "cell_type": "code",
   "execution_count": 4,
   "metadata": {},
   "outputs": [],
   "source": [
    "tools = [mltools.LgbmTrainTool(), \n",
    "        mltools.LgbmInferenceTool(),\n",
    "        ppt.OnehotEncodingTool(), \n",
    "        ppt.LabelEncodingTool(),\n",
    "        ppt.TargetEncodingTool(),\n",
    "        ppt.File0Tool(),\n",
    "        ppt.FileMeansTool(),\n",
    "        ppt.FileMedianTool(),\n",
    "        ppt.MakeDatasetTool(),\n",
    "        ppt.DropColumnTool(),\n",
    "        ]\n",
    "\n",
    "llm = OpenAI(temperature=0)\n",
    "agent = initialize_agent(tools, llm, agent=\"zero-shot-react-description\", verbose=True)"
   ]
  },
  {
   "cell_type": "code",
   "execution_count": 5,
   "metadata": {},
   "outputs": [
    {
     "name": "stdout",
     "output_type": "stream",
     "text": [
      "\n",
      "\n",
      "\u001b[1m> Entering new AgentExecutor chain...\u001b[0m\n",
      "\u001b[32;1m\u001b[1;3m LightGBMを使って推論する必要がある\n",
      "Action: lgbm_inference_tool\n",
      "Action Input: target\u001b[0m[LightGBM] [Warning] Unknown parameter: num_interation\n",
      "\n",
      "Observation: \u001b[33;1m\u001b[1;3mLightGBM inference is complete.\u001b[0m\n",
      "Thought:\u001b[32;1m\u001b[1;3m 推論が完了した\n",
      "Final Answer: LightGBM inference is complete.\u001b[0m\n",
      "\n",
      "\u001b[1m> Finished chain.\u001b[0m\n"
     ]
    },
    {
     "data": {
      "text/plain": [
       "'LightGBM inference is complete.'"
      ]
     },
     "execution_count": 5,
     "metadata": {},
     "output_type": "execute_result"
    }
   ],
   "source": [
    "target = 'target'\n",
    "\n",
    "#input = \"カラム名が　のone-hotエンコーディングを行ってください。\"\n",
    "#input = \"カラム名が　のラベルエンコーディングを行ってください。\"\n",
    "#input = \"カラム名が　のターゲットエンコーディングを行ってください。\"\n",
    "#input = \"カラム名が　の欠損値を0で埋めてください。\"\n",
    "#input = \"train.csvとeval.csvを作成してください。\"\n",
    "\n",
    "#input = \"LightGBMで学習してください。推論はしないでください\"\n",
    "input = \"LightGBMで推論してください。\"\n",
    "\n",
    "\n",
    "prompt = \"\"\"\n",
    "{input_}一度toolを使ったら必ず終了してください．\n",
    "目的変数は{target_}です．\n",
    "\"\"\".format(input_=input, target_=target)\n",
    "\n",
    "\n",
    "agent.run(prompt)"
   ]
  },
  {
   "cell_type": "code",
   "execution_count": null,
   "metadata": {},
   "outputs": [],
   "source": []
  }
 ],
 "metadata": {
  "kernelspec": {
   "display_name": "Python 3.10.9 ('base')",
   "language": "python",
   "name": "python3"
  },
  "language_info": {
   "codemirror_mode": {
    "name": "ipython",
    "version": 3
   },
   "file_extension": ".py",
   "mimetype": "text/x-python",
   "name": "python",
   "nbconvert_exporter": "python",
   "pygments_lexer": "ipython3",
   "version": "3.10.9"
  },
  "orig_nbformat": 4,
  "vscode": {
   "interpreter": {
    "hash": "d4d1e4263499bec80672ea0156c357c1ee493ec2b1c70f0acce89fc37c4a6abe"
   }
  }
 },
 "nbformat": 4,
 "nbformat_minor": 2
}
