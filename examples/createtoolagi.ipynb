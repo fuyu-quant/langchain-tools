{
 "cells": [
  {
   "cell_type": "markdown",
   "metadata": {},
   "source": [
    "# Create Tool AGI"
   ]
  },
  {
   "cell_type": "markdown",
   "metadata": {},
   "source": [
    "[![Open In Colab](https://colab.research.google.com/assets/colab-badge.svg)](https://colab.research.google.com/github/fuyu-quant/langchain-tools/blob/main/examples/createtoolagi.ipynb)"
   ]
  },
  {
   "cell_type": "code",
   "execution_count": 2,
   "metadata": {},
   "outputs": [
    {
     "name": "stdout",
     "output_type": "stream",
     "text": [
      "Collecting git+https://github.com/fuyu-quant/langchain-tools.git\n",
      "  Cloning https://github.com/fuyu-quant/langchain-tools.git to /tmp/pip-req-build-qkflpi0i\n",
      "  Running command git clone --filter=blob:none --quiet https://github.com/fuyu-quant/langchain-tools.git /tmp/pip-req-build-qkflpi0i\n",
      "  Resolved https://github.com/fuyu-quant/langchain-tools.git to commit 1201a09b4acb563d8f18ccdcb474f3f8852b7ca0\n",
      "  Preparing metadata (setup.py) ... \u001b[?25ldone\n",
      "\u001b[?25hBuilding wheels for collected packages: langchaintools\n",
      "  Building wheel for langchaintools (setup.py) ... \u001b[?25ldone\n",
      "\u001b[?25h  Created wheel for langchaintools: filename=langchaintools-0.0.2-py3-none-any.whl size=6915 sha256=462618bdf4c5cf8d827aab52eebc80b66afba3203ea1d0bde6c3c480f9f5ee71\n",
      "  Stored in directory: /tmp/pip-ephem-wheel-cache-4oigcjuk/wheels/ea/fc/e9/fd85c3556513c353cf0eaee43cd7473ffc93461ab46e639ae5\n",
      "Successfully built langchaintools\n",
      "Installing collected packages: langchaintools\n",
      "  Attempting uninstall: langchaintools\n",
      "    Found existing installation: langchaintools 0.1\n",
      "    Uninstalling langchaintools-0.1:\n",
      "      Successfully uninstalled langchaintools-0.1\n",
      "Successfully installed langchaintools-0.0.2\n"
     ]
    }
   ],
   "source": [
    "!pip install git+https://github.com/fuyu-quant/langchain-tools.git"
   ]
  },
  {
   "cell_type": "code",
   "execution_count": 3,
   "metadata": {},
   "outputs": [],
   "source": [
    "%%capture\n",
    "!pip install langchain==0.0.167\n",
    "!pip install openai==0.27.4"
   ]
  },
  {
   "cell_type": "code",
   "execution_count": 6,
   "metadata": {},
   "outputs": [
    {
     "ename": "ImportError",
     "evalue": "cannot import name 'createtoolagi' from 'langchaintools' (/opt/conda/lib/python3.10/site-packages/langchaintools/__init__.py)",
     "output_type": "error",
     "traceback": [
      "\u001b[0;31m---------------------------------------------------------------------------\u001b[0m",
      "\u001b[0;31mImportError\u001b[0m                               Traceback (most recent call last)",
      "Cell \u001b[0;32mIn[6], line 1\u001b[0m\n\u001b[0;32m----> 1\u001b[0m \u001b[38;5;28;01mfrom\u001b[39;00m \u001b[38;5;21;01mlangchaintools\u001b[39;00m \u001b[38;5;28;01mimport\u001b[39;00m createtoolagi\n",
      "\u001b[0;31mImportError\u001b[0m: cannot import name 'createtoolagi' from 'langchaintools' (/opt/conda/lib/python3.10/site-packages/langchaintools/__init__.py)"
     ]
    }
   ],
   "source": [
    "from langchaintools import createtoolagi"
   ]
  },
  {
   "cell_type": "code",
   "execution_count": 5,
   "metadata": {},
   "outputs": [],
   "source": [
    "from langchaintools import mltools"
   ]
  },
  {
   "cell_type": "code",
   "execution_count": null,
   "metadata": {},
   "outputs": [],
   "source": [
    "import os\n",
    "\n",
    "#os.environ[\"OPENAI_API_KEY\"] = \"YOUR_API_KEY\""
   ]
  }
 ],
 "metadata": {
  "kernelspec": {
   "display_name": "Python 3.10.9 ('base')",
   "language": "python",
   "name": "python3"
  },
  "language_info": {
   "codemirror_mode": {
    "name": "ipython",
    "version": 3
   },
   "file_extension": ".py",
   "mimetype": "text/x-python",
   "name": "python",
   "nbconvert_exporter": "python",
   "pygments_lexer": "ipython3",
   "version": "3.10.9"
  },
  "orig_nbformat": 4,
  "vscode": {
   "interpreter": {
    "hash": "d4d1e4263499bec80672ea0156c357c1ee493ec2b1c70f0acce89fc37c4a6abe"
   }
  }
 },
 "nbformat": 4,
 "nbformat_minor": 2
}
